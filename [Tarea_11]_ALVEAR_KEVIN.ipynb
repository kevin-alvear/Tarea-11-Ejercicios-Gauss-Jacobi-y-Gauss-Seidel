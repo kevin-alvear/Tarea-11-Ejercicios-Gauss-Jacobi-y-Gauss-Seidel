{
  "nbformat": 4,
  "nbformat_minor": 0,
  "metadata": {
    "colab": {
      "provenance": [],
      "authorship_tag": "ABX9TyNoMzPnTcLPMqS8odafSHuO",
      "include_colab_link": true
    },
    "kernelspec": {
      "name": "python3",
      "display_name": "Python 3"
    },
    "language_info": {
      "name": "python"
    }
  },
  "cells": [
    {
      "cell_type": "markdown",
      "metadata": {
        "id": "view-in-github",
        "colab_type": "text"
      },
      "source": [
        "<a href=\"https://colab.research.google.com/github/kevin-alvear/Tarea-11-Ejercicios-Gauss-Jacobi-y-Gauss-Seidel/blob/main/%5BTarea_11%5D_ALVEAR_KEVIN.ipynb\" target=\"_parent\"><img src=\"https://colab.research.google.com/assets/colab-badge.svg\" alt=\"Open In Colab\"/></a>"
      ]
    },
    {
      "cell_type": "markdown",
      "source": [
        "# Escuela Politécnica Nacional\n",
        "\n",
        "## Ejercicios de Gauss-Jacobi y Gauss-Seidel\n",
        "\n",
        "\n",
        "**Estudiante:** Kevin Alvear  \n",
        "**Fecha:** 28/07/2024\n",
        "\n",
        "---"
      ],
      "metadata": {
        "id": "EpsU6SLSORxP"
      }
    },
    {
      "cell_type": "markdown",
      "source": [
        "**1. Encuentre las primeras dos iteraciones del método de Jacobi para los siguientes sistemas lineales, por medio de $x^{(0)} = 0$:**\n",
        "\n",
        "a.\n",
        "\\begin{align*}\n",
        "3x_1 - x_2 + x_3 &= 1, \\\\\n",
        "3x_1 + 6x_2 + 2x_3 &= 0, \\\\\n",
        "3x_1 + 3x_2 + 7x_3 &= 4.\n",
        "\\end{align*}\n",
        "\n",
        "b.\n",
        "\\begin{align*}\n",
        "10x_1 - x_2 &= 9, \\\\\n",
        "-x_1 + 10x_2 - 2x_3 &= 7, \\\\\n",
        "-2x_2 + 10x_3 &= 6.\n",
        "\\end{align*}\n",
        "\n",
        "c.\n",
        "\\begin{align*}\n",
        "10x_1 + 5x_2 &= 6, \\\\\n",
        "5x_1 + 10x_2 - 4x_3 &= 25, \\\\\n",
        "-4x_2 + 8x_3 - x_4 &= -11, \\\\\n",
        "-x_3 + 5x_4 &= -11.\n",
        "\\end{align*}\n",
        "\n",
        "d.\n",
        "\\begin{align*}\n",
        "4x_1 + x_2 + x_3 + x_5 &= 6, \\\\\n",
        "-x_1 - 3x_2 + x_3 + x_4 &= 6, \\\\\n",
        "2x_1 + x_2 + 5x_3 - x_4 - x_5 &= 6, \\\\\n",
        "-x_1 - x_2 - x_3 + 4x_4 &= 6, \\\\\n",
        "2x_2 - x_3 + x_4 + 4x_5 &= 6.\n",
        "\\end{align*}"
      ],
      "metadata": {
        "id": "6RGf1Q9F_hFB"
      }
    },
    {
      "cell_type": "code",
      "source": [
        "import numpy as np\n",
        "\n",
        "# Función para realizar una iteración del método de Jacobi\n",
        "def jacobi_iteration(A, b, x):\n",
        "    \"\"\"\n",
        "    Realiza una iteración del método de Jacobi.\n",
        "\n",
        "    Args:\n",
        "    A (ndarray): Matriz de coeficientes.\n",
        "    b (ndarray): Vector de términos independientes.\n",
        "    x (ndarray): Vector de la solución actual.\n",
        "\n",
        "    Returns:\n",
        "    ndarray: Nuevo vector de la solución después de una iteración.\n",
        "    \"\"\"\n",
        "    D = np.diag(A)\n",
        "    R = A - np.diagflat(D)\n",
        "    return (b - np.dot(R, x)) / D\n",
        "\n",
        "# Definiciones de las matrices A y vectores b para cada sistema\n",
        "A_a = np.array([\n",
        "    [3, -1, 1],\n",
        "    [3, 6, 2],\n",
        "    [3, 3, 7]\n",
        "])\n",
        "b_a = np.array([1, 0, 4])\n",
        "\n",
        "A_b = np.array([\n",
        "    [10, -1, 0],\n",
        "    [-1, 10, -2],\n",
        "    [0, -2, 10]\n",
        "])\n",
        "b_b = np.array([9, 7, 6])\n",
        "\n",
        "A_c = np.array([\n",
        "    [10, 5, 0, 0],\n",
        "    [5, 10, -4, 0],\n",
        "    [0, -4, 8, -1],\n",
        "    [0, 0, -1, 5]\n",
        "])\n",
        "b_c = np.array([6, 25, -11, -11])\n",
        "\n",
        "A_d = np.array([\n",
        "    [4, 1, 1, 0, 1],\n",
        "    [-1, -3, 1, 1, 0],\n",
        "    [2, 1, 5, -1, -1],\n",
        "    [-1, -1, -1, 4, 0],\n",
        "    [0, 2, -1, 1, 4]\n",
        "])\n",
        "b_d = np.array([6, 6, 6, 6, 6])\n",
        "\n",
        "# Inicializar los vectores x^(0)\n",
        "x_a = np.zeros_like(b_a, dtype=np.double)\n",
        "x_b = np.zeros_like(b_b, dtype=np.double)\n",
        "x_c = np.zeros_like(b_c, dtype=np.double)\n",
        "x_d = np.zeros_like(b_d, dtype=np.double)\n",
        "\n",
        "# Realizar dos iteraciones del método de Jacobi para cada sistema\n",
        "x_a_1 = jacobi_iteration(A_a, b_a, x_a)\n",
        "x_a_2 = jacobi_iteration(A_a, b_a, x_a_1)\n",
        "\n",
        "x_b_1 = jacobi_iteration(A_b, b_b, x_b)\n",
        "x_b_2 = jacobi_iteration(A_b, b_b, x_b_1)\n",
        "\n",
        "x_c_1 = jacobi_iteration(A_c, b_c, x_c)\n",
        "x_c_2 = jacobi_iteration(A_c, b_c, x_c_1)\n",
        "\n",
        "x_d_1 = jacobi_iteration(A_d, b_d, x_d)\n",
        "x_d_2 = jacobi_iteration(A_d, b_d, x_d_1)\n",
        "\n",
        "# Imprimir los resultados\n",
        "print(\"Sistema a:\")\n",
        "print(\"Primera iteración:\", x_a_1)\n",
        "print(\"Segunda iteración:\", x_a_2)\n",
        "\n",
        "print(\"\\nSistema b:\")\n",
        "print(\"Primera iteración:\", x_b_1)\n",
        "print(\"Segunda iteración:\", x_b_2)\n",
        "\n",
        "print(\"\\nSistema c:\")\n",
        "print(\"Primera iteración:\", x_c_1)\n",
        "print(\"Segunda iteración:\", x_c_2)\n",
        "\n",
        "print(\"\\nSistema d:\")\n",
        "print(\"Primera iteración:\", x_d_1)\n",
        "print(\"Segunda iteración:\", x_d_2)"
      ],
      "metadata": {
        "colab": {
          "base_uri": "https://localhost:8080/"
        },
        "id": "JK-guZHmxTk9",
        "outputId": "36c7eef6-7ac0-4ec6-ec36-3e61d95d27a3"
      },
      "execution_count": 1,
      "outputs": [
        {
          "output_type": "stream",
          "name": "stdout",
          "text": [
            "Sistema a:\n",
            "Primera iteración: [0.33333333 0.         0.57142857]\n",
            "Segunda iteración: [ 0.14285714 -0.35714286  0.42857143]\n",
            "\n",
            "Sistema b:\n",
            "Primera iteración: [0.9 0.7 0.6]\n",
            "Segunda iteración: [0.97 0.91 0.74]\n",
            "\n",
            "Sistema c:\n",
            "Primera iteración: [ 0.6    2.5   -1.375 -2.2  ]\n",
            "Segunda iteración: [-0.65   1.65  -0.4   -2.475]\n",
            "\n",
            "Sistema d:\n",
            "Primera iteración: [ 1.5 -2.   1.2  1.5  1.5]\n",
            "Segunda iteración: [ 1.325 -1.6    1.6    1.675  2.425]\n"
          ]
        }
      ]
    },
    {
      "cell_type": "markdown",
      "source": [
        "**2. Repita el ejercicio 1 usando el método de Gauss-Seidel.**"
      ],
      "metadata": {
        "id": "vIxAbMrV_mlc"
      }
    },
    {
      "cell_type": "code",
      "source": [
        "import numpy as np\n",
        "\n",
        "# Función para realizar una iteración del método de Gauss-Seidel\n",
        "def gauss_seidel_iteration(A, b, x):\n",
        "    \"\"\"\n",
        "    Realiza una iteración del método de Gauss-Seidel.\n",
        "\n",
        "    Args:\n",
        "    A (ndarray): Matriz de coeficientes.\n",
        "    b (ndarray): Vector de términos independientes.\n",
        "    x (ndarray): Vector de la solución actual.\n",
        "\n",
        "    Returns:\n",
        "    ndarray: Nuevo vector de la solución después de una iteración.\n",
        "    \"\"\"\n",
        "    n = len(b)\n",
        "    x_new = np.copy(x)\n",
        "\n",
        "    for i in range(n):\n",
        "        sum1 = np.dot(A[i, :i], x_new[:i])\n",
        "        sum2 = np.dot(A[i, i+1:], x[i+1:])\n",
        "        x_new[i] = (b[i] - sum1 - sum2) / A[i, i]\n",
        "\n",
        "    return x_new\n",
        "\n",
        "# Definiciones de las matrices A y vectores b para cada sistema\n",
        "A_a = np.array([\n",
        "    [3, -1, 1],\n",
        "    [3, 6, 2],\n",
        "    [3, 3, 7]\n",
        "])\n",
        "b_a = np.array([1, 0, 4])\n",
        "\n",
        "A_b = np.array([\n",
        "    [10, -1, 0],\n",
        "    [-1, 10, -2],\n",
        "    [0, -2, 10]\n",
        "])\n",
        "b_b = np.array([9, 7, 6])\n",
        "\n",
        "A_c = np.array([\n",
        "    [10, 5, 0, 0],\n",
        "    [5, 10, -4, 0],\n",
        "    [0, -4, 8, -1],\n",
        "    [0, 0, -1, 5]\n",
        "])\n",
        "b_c = np.array([6, 25, -11, -11])\n",
        "\n",
        "A_d = np.array([\n",
        "    [4, 1, 1, 0, 1],\n",
        "    [-1, -3, 1, 1, 0],\n",
        "    [2, 1, 5, -1, -1],\n",
        "    [-1, -1, -1, 4, 0],\n",
        "    [0, 2, -1, 1, 4]\n",
        "])\n",
        "b_d = np.array([6, 6, 6, 6, 6])\n",
        "\n",
        "# Inicializar los vectores x^(0)\n",
        "x_a = np.zeros_like(b_a, dtype=np.double)\n",
        "x_b = np.zeros_like(b_b, dtype=np.double)\n",
        "x_c = np.zeros_like(b_c, dtype=np.double)\n",
        "x_d = np.zeros_like(b_d, dtype=np.double)\n",
        "\n",
        "# Realizar dos iteraciones del método de Gauss-Seidel para cada sistema\n",
        "x_a_1 = gauss_seidel_iteration(A_a, b_a, x_a)\n",
        "x_a_2 = gauss_seidel_iteration(A_a, b_a, x_a_1)\n",
        "\n",
        "x_b_1 = gauss_seidel_iteration(A_b, b_b, x_b)\n",
        "x_b_2 = gauss_seidel_iteration(A_b, b_b, x_b_1)\n",
        "\n",
        "x_c_1 = gauss_seidel_iteration(A_c, b_c, x_c)\n",
        "x_c_2 = gauss_seidel_iteration(A_c, b_c, x_c_1)\n",
        "\n",
        "x_d_1 = gauss_seidel_iteration(A_d, b_d, x_d)\n",
        "x_d_2 = gauss_seidel_iteration(A_d, b_d, x_d_1)\n",
        "\n",
        "# Imprimir los resultados\n",
        "print(\"Sistema a:\")\n",
        "print(\"Primera iteración:\", x_a_1)\n",
        "print(\"Segunda iteración:\", x_a_2)\n",
        "\n",
        "print(\"\\nSistema b:\")\n",
        "print(\"Primera iteración:\", x_b_1)\n",
        "print(\"Segunda iteración:\", x_b_2)\n",
        "\n",
        "print(\"\\nSistema c:\")\n",
        "print(\"Primera iteración:\", x_c_1)\n",
        "print(\"Segunda iteración:\", x_c_2)\n",
        "\n",
        "print(\"\\nSistema d:\")\n",
        "print(\"Primera iteración:\", x_d_1)\n",
        "print(\"Segunda iteración:\", x_d_2)"
      ],
      "metadata": {
        "colab": {
          "base_uri": "https://localhost:8080/"
        },
        "id": "fC1j5tgQxyeU",
        "outputId": "bfe994b8-60b1-4464-b5c0-32931f495e6a"
      },
      "execution_count": 2,
      "outputs": [
        {
          "output_type": "stream",
          "name": "stdout",
          "text": [
            "Sistema a:\n",
            "Primera iteración: [ 0.33333333 -0.16666667  0.5       ]\n",
            "Segunda iteración: [ 0.11111111 -0.22222222  0.61904762]\n",
            "\n",
            "Sistema b:\n",
            "Primera iteración: [0.9   0.79  0.758]\n",
            "Segunda iteración: [0.979  0.9495 0.7899]\n",
            "\n",
            "Sistema c:\n",
            "Primera iteración: [ 0.6    2.2   -0.275 -2.255]\n",
            "Segunda iteración: [-0.5       2.64     -0.336875 -2.267375]\n",
            "\n",
            "Sistema d:\n",
            "Primera iteración: [ 1.5     -2.5      1.1      1.525    2.64375]\n",
            "Segunda iteración: [ 1.1890625  -1.52135417  1.86239583  1.88252604  2.25564453]\n"
          ]
        }
      ]
    },
    {
      "cell_type": "markdown",
      "source": [
        "**3. Utilice el método de Jacobi para resolver los sistemas lineales en el ejercicio 1, con $TOL = 10^{-3}$.**"
      ],
      "metadata": {
        "id": "txeX8PpT_53q"
      }
    },
    {
      "cell_type": "code",
      "source": [
        "import numpy as np\n",
        "\n",
        "# Función para realizar el método de Jacobi hasta que se alcance la tolerancia\n",
        "def jacobi_method(A, b, tol=1e-3, max_iterations=100):\n",
        "    \"\"\"\n",
        "    Resuelve un sistema de ecuaciones lineales usando el método de Jacobi.\n",
        "\n",
        "    Args:\n",
        "    A (ndarray): Matriz de coeficientes.\n",
        "    b (ndarray): Vector de términos independientes.\n",
        "    tol (float): Tolerancia para la convergencia.\n",
        "    max_iterations (int): Número máximo de iteraciones.\n",
        "\n",
        "    Returns:\n",
        "    ndarray: Vector de la solución.\n",
        "    \"\"\"\n",
        "    n = len(b)\n",
        "    x = np.zeros_like(b, dtype=np.double)\n",
        "    x_new = np.zeros_like(x)\n",
        "\n",
        "    for k in range(max_iterations):\n",
        "        for i in range(n):\n",
        "            sum1 = np.dot(A[i, :i], x[:i])\n",
        "            sum2 = np.dot(A[i, i+1:], x[i+1:])\n",
        "            x_new[i] = (b[i] - sum1 - sum2) / A[i, i]\n",
        "\n",
        "        # Verificar la convergencia\n",
        "        if np.linalg.norm(x_new - x, ord=np.inf) < tol:\n",
        "            break\n",
        "\n",
        "        x = np.copy(x_new)\n",
        "\n",
        "    return x_new\n",
        "\n",
        "# Definiciones de las matrices A y vectores b para cada sistema\n",
        "A_a = np.array([\n",
        "    [3, -1, 1],\n",
        "    [3, 6, 2],\n",
        "    [3, 3, 7]\n",
        "])\n",
        "b_a = np.array([1, 0, 4])\n",
        "\n",
        "A_b = np.array([\n",
        "    [10, -1, 0],\n",
        "    [-1, 10, -2],\n",
        "    [0, -2, 10]\n",
        "])\n",
        "b_b = np.array([9, 7, 6])\n",
        "\n",
        "A_c = np.array([\n",
        "    [10, 5, 0, 0],\n",
        "    [5, 10, -4, 0],\n",
        "    [0, -4, 8, -1],\n",
        "    [0, 0, -1, 5]\n",
        "])\n",
        "b_c = np.array([6, 25, -11, -11])\n",
        "\n",
        "A_d = np.array([\n",
        "    [4, 1, 1, 0, 1],\n",
        "    [-1, -3, 1, 1, 0],\n",
        "    [2, 1, 5, -1, -1],\n",
        "    [-1, -1, -1, 4, 0],\n",
        "    [0, 2, -1, 1, 4]\n",
        "])\n",
        "b_d = np.array([6, 6, 6, 6, 6])\n",
        "\n",
        "# Resolver los sistemas de ecuaciones utilizando el método de Jacobi con la tolerancia especificada\n",
        "x_a = jacobi_method(A_a, b_a, tol=1e-3)\n",
        "x_b = jacobi_method(A_b, b_b, tol=1e-3)\n",
        "x_c = jacobi_method(A_c, b_c, tol=1e-3)\n",
        "x_d = jacobi_method(A_d, b_d, tol=1e-3)\n",
        "\n",
        "# Imprimir los resultados\n",
        "print(\"Solución del sistema a:\", x_a)\n",
        "print(\"Solución del sistema b:\", x_b)\n",
        "print(\"Solución del sistema c:\", x_c)\n",
        "print(\"Solución del sistema d:\", x_d)"
      ],
      "metadata": {
        "colab": {
          "base_uri": "https://localhost:8080/"
        },
        "id": "cPKlcuh6yXc8",
        "outputId": "c4c8b17e-d5e1-4365-8ebb-5591bd2a7ac3"
      },
      "execution_count": 3,
      "outputs": [
        {
          "output_type": "stream",
          "name": "stdout",
          "text": [
            "Solución del sistema a: [ 0.03510079 -0.23663751  0.65812732]\n",
            "Solución del sistema b: [0.995725 0.957775 0.79145 ]\n",
            "Solución del sistema c: [-0.79710581  2.79517067 -0.25939578 -2.25179299]\n",
            "Solución del sistema d: [ 0.78708833 -1.00303576  1.86604817  1.91244923  1.98957067]\n"
          ]
        }
      ]
    },
    {
      "cell_type": "markdown",
      "source": [
        "**4. Utilice el método de Gauss-Siedel para resolver los sistemas lineales en el ejercicio 1, con $TOL = 10^{-3}$.**"
      ],
      "metadata": {
        "id": "H2W4F4Dv_9xX"
      }
    },
    {
      "cell_type": "code",
      "source": [
        "import numpy as np\n",
        "\n",
        "# Función para realizar el método de Gauss-Seidel hasta que se alcance la tolerancia\n",
        "def gauss_seidel_method(A, b, tol=1e-3, max_iterations=100):\n",
        "    \"\"\"\n",
        "    Resuelve un sistema de ecuaciones lineales usando el método de Gauss-Seidel.\n",
        "\n",
        "    Args:\n",
        "    A (ndarray): Matriz de coeficientes.\n",
        "    b (ndarray): Vector de términos independientes.\n",
        "    tol (float): Tolerancia para la convergencia.\n",
        "    max_iterations (int): Número máximo de iteraciones.\n",
        "\n",
        "    Returns:\n",
        "    ndarray: Vector de la solución.\n",
        "    \"\"\"\n",
        "    n = len(b)\n",
        "    x = np.zeros_like(b, dtype=np.double)\n",
        "\n",
        "    for k in range(max_iterations):\n",
        "        x_new = np.copy(x)\n",
        "\n",
        "        for i in range(n):\n",
        "            sum1 = np.dot(A[i, :i], x_new[:i])\n",
        "            sum2 = np.dot(A[i, i+1:], x[i+1:])\n",
        "            x_new[i] = (b[i] - sum1 - sum2) / A[i, i]\n",
        "\n",
        "        # Verificar la convergencia\n",
        "        if np.linalg.norm(x_new - x, ord=np.inf) < tol:\n",
        "            break\n",
        "\n",
        "        x = x_new\n",
        "\n",
        "    return x\n",
        "\n",
        "# Definiciones de las matrices A y vectores b para cada sistema\n",
        "A_a = np.array([\n",
        "    [3, -1, 1],\n",
        "    [3, 6, 2],\n",
        "    [3, 3, 7]\n",
        "])\n",
        "b_a = np.array([1, 0, 4])\n",
        "\n",
        "A_b = np.array([\n",
        "    [10, -1, 0],\n",
        "    [-1, 10, -2],\n",
        "    [0, -2, 10]\n",
        "])\n",
        "b_b = np.array([9, 7, 6])\n",
        "\n",
        "A_c = np.array([\n",
        "    [10, 5, 0, 0],\n",
        "    [5, 10, -4, 0],\n",
        "    [0, -4, 8, -1],\n",
        "    [0, 0, -1, 5]\n",
        "])\n",
        "b_c = np.array([6, 25, -11, -11])\n",
        "\n",
        "A_d = np.array([\n",
        "    [4, 1, 1, 0, 1],\n",
        "    [-1, -3, 1, 1, 0],\n",
        "    [2, 1, 5, -1, -1],\n",
        "    [-1, -1, -1, 4, 0],\n",
        "    [0, 2, -1, 1, 4]\n",
        "])\n",
        "b_d = np.array([6, 6, 6, 6, 6])\n",
        "\n",
        "# Resolver los sistemas de ecuaciones utilizando el método de Gauss-Seidel con la tolerancia especificada\n",
        "x_a = gauss_seidel_method(A_a, b_a, tol=1e-3)\n",
        "x_b = gauss_seidel_method(A_b, b_b, tol=1e-3)\n",
        "x_c = gauss_seidel_method(A_c, b_c, tol=1e-3)\n",
        "x_d = gauss_seidel_method(A_d, b_d, tol=1e-3)\n",
        "\n",
        "# Imprimir los resultados\n",
        "print(\"Solución del sistema a:\", x_a)\n",
        "print(\"Solución del sistema b:\", x_b)\n",
        "print(\"Solución del sistema c:\", x_c)\n",
        "print(\"Solución del sistema d:\", x_d)"
      ],
      "metadata": {
        "colab": {
          "base_uri": "https://localhost:8080/"
        },
        "id": "zi_yqWR5y81P",
        "outputId": "e6e0c92e-5649-420c-8ed2-5d2058dada28"
      },
      "execution_count": 4,
      "outputs": [
        {
          "output_type": "stream",
          "name": "stdout",
          "text": [
            "Solución del sistema a: [ 0.0361492  -0.23660752  0.65733928]\n",
            "Solución del sistema b: [0.99495  0.957475 0.791495]\n",
            "Solución del sistema c: [-0.79606012  2.79382952 -0.25959778 -2.25191956]\n",
            "Solución del sistema d: [ 0.78616258 -1.00240703  1.86606999  1.91245638  1.98960692]\n"
          ]
        }
      ]
    },
    {
      "cell_type": "markdown",
      "source": [
        "**5. El sistema lineal:**\n",
        "\n",
        "\\begin{align*}\n",
        "2x_1 - x_2 + x_3 &= -1, \\\\\n",
        "2x_1 + 2x_2 + 2x_3 &= 4, \\\\\n",
        "-x_1 - x_2 + 2x_3 &= -5,\n",
        "\\end{align*}\n",
        "\n",
        "tiene la solución $(1, 2, -1)$.\n",
        "\n",
        "a. Muestre que el método de Jacobi con $x^{(0)} = 0$ falla al proporcionar una buena aproximación después de 25 iteraciones.\n",
        "\n",
        "b. Utilice el método de Gauss-Seidel con $x^{(0)} = 0$ para aproximar la solución para el sistema lineal dentro de $10^{-5}$."
      ],
      "metadata": {
        "id": "IEOiFPc2AAre"
      }
    },
    {
      "cell_type": "code",
      "source": [
        "import numpy as np\n",
        "\n",
        "# Función para realizar el método de Jacobi hasta que se alcance la tolerancia o el máximo de iteraciones\n",
        "def jacobi_method(A, b, x0, tol=1e-5, max_iterations=25):\n",
        "    \"\"\"\n",
        "    Resuelve un sistema de ecuaciones lineales usando el método de Jacobi.\n",
        "\n",
        "    Args:\n",
        "    A (ndarray): Matriz de coeficientes.\n",
        "    b (ndarray): Vector de términos independientes.\n",
        "    x0 (ndarray): Vector de valores iniciales.\n",
        "    tol (float): Tolerancia para la convergencia.\n",
        "    max_iterations (int): Número máximo de iteraciones.\n",
        "\n",
        "    Returns:\n",
        "    ndarray: Vector de la solución después de max_iterations.\n",
        "    \"\"\"\n",
        "    n = len(b)\n",
        "    x = np.copy(x0)\n",
        "    x_new = np.zeros_like(x)\n",
        "\n",
        "    for k in range(max_iterations):\n",
        "        for i in range(n):\n",
        "            sum1 = np.dot(A[i, :i], x[:i])\n",
        "            sum2 = np.dot(A[i, i+1:], x[i+1:])\n",
        "            x_new[i] = (b[i] - sum1 - sum2) / A[i, i]\n",
        "\n",
        "        x = np.copy(x_new)\n",
        "\n",
        "    return x\n",
        "\n",
        "# Definición del sistema de ecuaciones\n",
        "A = np.array([\n",
        "    [2, -1, 1],\n",
        "    [2, 2, 2],\n",
        "    [-1, -1, 2]\n",
        "])\n",
        "b = np.array([-1, 4, -5])\n",
        "x0 = np.zeros_like(b)\n",
        "\n",
        "# Resolver el sistema de ecuaciones utilizando el método de Jacobi\n",
        "x_jacobi = jacobi_method(A, b, x0, max_iterations=25)\n",
        "\n",
        "# Imprimir el resultado\n",
        "print(\"Solución aproximada del método de Jacobi después de 25 iteraciones:\", x_jacobi)"
      ],
      "metadata": {
        "colab": {
          "base_uri": "https://localhost:8080/"
        },
        "id": "Yk7Zn6BWzV6u",
        "outputId": "9ff0213e-cb59-4d0e-c837-52c652697ed8"
      },
      "execution_count": 5,
      "outputs": [
        {
          "output_type": "stream",
          "name": "stdout",
          "text": [
            "Solución aproximada del método de Jacobi después de 25 iteraciones: [ 0  2 -2]\n"
          ]
        }
      ]
    },
    {
      "cell_type": "code",
      "source": [
        "# Función para realizar el método de Gauss-Seidel hasta que se alcance la tolerancia o el máximo de iteraciones\n",
        "def gauss_seidel_method(A, b, x0, tol=1e-5, max_iterations=100):\n",
        "    \"\"\"\n",
        "    Resuelve un sistema de ecuaciones lineales usando el método de Gauss-Seidel.\n",
        "\n",
        "    Args:\n",
        "    A (ndarray): Matriz de coeficientes.\n",
        "    b (ndarray): Vector de términos independientes.\n",
        "    x0 (ndarray): Vector de valores iniciales.\n",
        "    tol (float): Tolerancia para la convergencia.\n",
        "    max_iterations (int): Número máximo de iteraciones.\n",
        "\n",
        "    Returns:\n",
        "    ndarray: Vector de la solución.\n",
        "    \"\"\"\n",
        "    n = len(b)\n",
        "    x = np.copy(x0)\n",
        "\n",
        "    for k in range(max_iterations):\n",
        "        x_new = np.copy(x)\n",
        "\n",
        "        for i in range(n):\n",
        "            sum1 = np.dot(A[i, :i], x_new[:i])\n",
        "            sum2 = np.dot(A[i, i+1:], x[i+1:])\n",
        "            x_new[i] = (b[i] - sum1 - sum2) / A[i, i]\n",
        "\n",
        "        # Verificar la convergencia\n",
        "        if np.linalg.norm(x_new - x, ord=np.inf) < tol:\n",
        "            return x_new\n",
        "\n",
        "        x = x_new\n",
        "\n",
        "    return x\n",
        "\n",
        "# Resolver el sistema de ecuaciones utilizando el método de Gauss-Seidel\n",
        "x_gauss_seidel = gauss_seidel_method(A, b, x0, tol=1e-5)\n",
        "\n",
        "# Imprimir el resultado\n",
        "print(\"Solución aproximada del método de Gauss-Seidel dentro de 10^-5:\", x_gauss_seidel)\n"
      ],
      "metadata": {
        "colab": {
          "base_uri": "https://localhost:8080/"
        },
        "id": "NwDRTL-izaSn",
        "outputId": "27335e5c-63bc-4773-8f03-b242f83ef018"
      },
      "execution_count": 6,
      "outputs": [
        {
          "output_type": "stream",
          "name": "stdout",
          "text": [
            "Solución aproximada del método de Gauss-Seidel dentro de 10^-5: [ 1  2 -1]\n"
          ]
        }
      ]
    },
    {
      "cell_type": "markdown",
      "source": [
        "**6. El sistema lineal:**\n",
        "\n",
        "\\begin{align*}\n",
        "x_1 - x_3 &= 0.2, \\\\\n",
        "-\\frac{1}{2}x_1 + x_2 - \\frac{1}{4}x_3 &= -1.425, \\\\\n",
        "x_1 - \\frac{1}{2}x_2 + x_3 &= 2,\n",
        "\\end{align*}\n",
        "\n",
        "tiene la solución $(0.9, -0.8, 0.7)$.\n",
        "\n",
        "a. La matriz de coeficientes:\n",
        "\n",
        "A = \\begin{bmatrix}\n",
        "1 & 0 & -1 \\\\\n",
        "-\\frac{1}{2} & 1 & -\\frac{1}{4} \\\\\n",
        "1 & -\\frac{1}{2} & 1\n",
        "\\end{bmatrix}\n",
        "\n",
        "¿Tiene diagonal estrictamente dominante?\n",
        "\n",
        "b. Utilice el método iterativo de Gauss-Seidel para aproximar la solución para el sistema lineal con una tolerancia de $10^{22}$ y un máximo de 300 iteraciones.\n",
        "\n",
        "c. ¿Qué pasa en la parte b cuando el sistema cambia por el siguiente?\n",
        "\n",
        "\\begin{align*}\n",
        "x_1 - 2x_3 &= 0.2, \\\\\n",
        "-\\frac{1}{2}x_1 + x_2 - \\frac{1}{4}x_3 &= -1.425, \\\\\n",
        "x_1 - \\frac{1}{2}x_2 + x_3 &= 2.\n",
        "\\end{align*}"
      ],
      "metadata": {
        "id": "Q3QcfccGAHun"
      }
    },
    {
      "cell_type": "markdown",
      "source": [
        "Para verificar si una matriz $A$ es diagonal estrictamente dominante, cada uno de los elementos de la diagonal principal debe ser mayor que la suma de los valores absolutos de los otros elementos en la misma fila.\n",
        "\n",
        "Dada la matriz:\n",
        "\n",
        "A =\n",
        "\\begin{bmatrix}\n",
        "1 & 0 & -1 \\\\\n",
        "-\\frac{1}{2} & 1 & -\\frac{1}{4} \\\\\n",
        "1 & -\\frac{1}{2} & 1\n",
        "\\end{bmatrix}\n",
        "\n",
        "Para cada fila, verificamos si $(|a_{ii}| > \\sum_{j \\neq i} |a_{ij}|)$:\n",
        "\n",
        "1. Primera fila: $(|1| > |0| + |-1|)$ -> $(1 > 1)$ -> $Falso$.\n",
        "2. Segunda fila: $(|1| > |-0.5| + |-0.25|)$ -> $(1 > 0.75)$ -> $Verdadero$.\n",
        "3. Tercera fila: $(|1| > |-0.5| + |1|)$ -> $(1 > 1.5)$ -> $Falso$.\n",
        "\n",
        "Dado que no todas las filas cumplen con la condición, la matriz $A$ no es diagonal estrictamente dominante."
      ],
      "metadata": {
        "id": "BtOvprYX7LWu"
      }
    },
    {
      "cell_type": "code",
      "source": [
        "import numpy as np\n",
        "\n",
        "def gauss_seidel(A, b, x0, tol=1e-22, max_iterations=300):\n",
        "    \"\"\"\n",
        "    Resuelve un sistema de ecuaciones lineales usando el método de Gauss-Seidel.\n",
        "\n",
        "    Args:\n",
        "    A (ndarray): Matriz de coeficientes.\n",
        "    b (ndarray): Vector de términos independientes.\n",
        "    x0 (ndarray): Vector de valores iniciales.\n",
        "    tol (float): Tolerancia para la convergencia.\n",
        "    max_iterations (int): Número máximo de iteraciones.\n",
        "\n",
        "    Returns:\n",
        "    ndarray: Vector de la solución.\n",
        "    \"\"\"\n",
        "    n = len(b)\n",
        "    x = np.copy(x0)\n",
        "\n",
        "    for k in range(max_iterations):\n",
        "        x_new = np.copy(x)\n",
        "\n",
        "        for i in range(n):\n",
        "            sum1 = np.dot(A[i, :i], x_new[:i])\n",
        "            sum2 = np.dot(A[i, i+1:], x[i+1:])\n",
        "            x_new[i] = (b[i] - sum1 - sum2) / A[i, i]\n",
        "\n",
        "        if np.linalg.norm(x_new - x, ord=np.inf) < tol:\n",
        "            return x_new\n",
        "\n",
        "        x = x_new\n",
        "\n",
        "    return x\n",
        "\n",
        "# Definición del sistema de ecuaciones\n",
        "A = np.array([\n",
        "    [1, 0, -1],\n",
        "    [-0.5, 1, -0.25],\n",
        "    [1, -0.5, 1]\n",
        "])\n",
        "b = np.array([0.2, -1.425, 2])\n",
        "x0 = np.zeros_like(b)\n",
        "\n",
        "# Resolver el sistema de ecuaciones utilizando el método de Gauss-Seidel\n",
        "x_gauss_seidel = gauss_seidel(A, b, x0)\n",
        "\n",
        "# Imprimir el resultado\n",
        "print(\"Solución aproximada del método de Gauss-Seidel dentro de 10^-22:\", x_gauss_seidel)"
      ],
      "metadata": {
        "colab": {
          "base_uri": "https://localhost:8080/"
        },
        "id": "NP-Iux2D7aVF",
        "outputId": "b6ca24a9-abae-4e4d-f644-07193d221ec7"
      },
      "execution_count": 7,
      "outputs": [
        {
          "output_type": "stream",
          "name": "stdout",
          "text": [
            "Solución aproximada del método de Gauss-Seidel dentro de 10^-22: [ 0.9 -0.8  0.7]\n"
          ]
        }
      ]
    },
    {
      "cell_type": "code",
      "source": [
        "# Nueva matriz de coeficientes\n",
        "A_new = np.array([\n",
        "    [1, 0, -2],\n",
        "    [-0.5, 1, -0.25],\n",
        "    [1, -0.5, 1]\n",
        "])\n",
        "\n",
        "# Resolver el sistema de ecuaciones utilizando el método de Gauss-Seidel\n",
        "x_gauss_seidel_new = gauss_seidel(A_new, b, x0)\n",
        "\n",
        "# Imprimir el resultado\n",
        "print(\"Solución aproximada del método de Gauss-Seidel para el nuevo sistema dentro de 10^-22:\", x_gauss_seidel_new)"
      ],
      "metadata": {
        "colab": {
          "base_uri": "https://localhost:8080/"
        },
        "id": "COl1IUEe7rAT",
        "outputId": "72112426-5c7e-48c1-e008-1da5c543643a"
      },
      "execution_count": 8,
      "outputs": [
        {
          "output_type": "stream",
          "name": "stdout",
          "text": [
            "Solución aproximada del método de Gauss-Seidel para el nuevo sistema dentro de 10^-22: [ 2.15687283e+41  1.34804552e+41 -1.48285007e+41]\n"
          ]
        }
      ]
    },
    {
      "cell_type": "markdown",
      "source": [
        "**7. Repita el ejercicio 11 usando el método de Jacobi.**"
      ],
      "metadata": {
        "id": "l49R-yelAVal"
      }
    },
    {
      "cell_type": "markdown",
      "source": [
        "Para verificar si una matriz $A$ es diagonal estrictamente dominante, cada uno de los elementos de la diagonal principal debe ser mayor que la suma de los valores absolutos de los otros elementos en la misma fila.\n",
        "\n",
        "Dada la matriz:\n",
        "\n",
        "A =\n",
        "\\begin{bmatrix}\n",
        "1 & 0 & -1 \\\\\n",
        "-\\frac{1}{2} & 1 & -\\frac{1}{4} \\\\\n",
        "1 & -\\frac{1}{2} & 1\n",
        "\\end{bmatrix}\n",
        "\n",
        "Para cada fila, verificamos si $(|a_{ii}| > \\sum_{j \\neq i} |a_{ij}|)$:\n",
        "\n",
        "1. Primera fila: $(|1| > |0| + |-1|)$ -> $(1 > 1)$ -> $Falso$.\n",
        "2. Segunda fila: $(|1| > |-0.5| + |-0.25|)$ -> $(1 > 0.75)$ -> $Verdadero$.\n",
        "3. Tercera fila: $(|1| > |-0.5| + |1|)$ -> $(1 > 1.5)$ -> $Falso$.\n",
        "\n",
        "Dado que no todas las filas cumplen con la condición, la matriz $A$ no es diagonal estrictamente dominante."
      ],
      "metadata": {
        "id": "u6ReTvh6_u2m"
      }
    },
    {
      "cell_type": "code",
      "source": [
        "import numpy as np\n",
        "\n",
        "def jacobi(A, b, x0, tol=1e-22, max_iterations=300):\n",
        "    \"\"\"\n",
        "    Resuelve un sistema de ecuaciones lineales usando el método de Jacobi.\n",
        "    Args:\n",
        "    A (ndarray): Matriz de coeficientes.\n",
        "    b (ndarray): Vector de términos independientes.\n",
        "    x0 (ndarray): Vector de valores iniciales.\n",
        "    tol (float): Tolerancia para la convergencia.\n",
        "    max_iterations (int): Número máximo de iteraciones.\n",
        "    Returns:\n",
        "    ndarray: Vector de la solución.\n",
        "    \"\"\"\n",
        "    n = len(b)\n",
        "    x = np.copy(x0)\n",
        "    for k in range(max_iterations):\n",
        "        x_new = np.copy(x)\n",
        "        for i in range(n):\n",
        "            sum1 = np.dot(A[i, :i], x[:i])\n",
        "            sum2 = np.dot(A[i, i+1:], x[i+1:])\n",
        "            x_new[i] = (b[i] - sum1 - sum2) / A[i, i]\n",
        "        if np.linalg.norm(x_new - x, ord=np.inf) < tol:\n",
        "            return x_new\n",
        "        x = x_new\n",
        "    return x\n",
        "# Definición del sistema de ecuaciones\n",
        "A = np.array([\n",
        "[1, 0, -1],\n",
        "[-0.5, 1, -0.25],\n",
        "[1, -0.5, 1]\n",
        "])\n",
        "b = np.array([0.2, -1.425, 2])\n",
        "x0 = np.zeros_like(b)\n",
        "# Resolver el sistema de ecuaciones utilizando el método de Jacobi\n",
        "x_jacobi = jacobi(A, b, x0)\n",
        "# Imprimir el resultado\n",
        "print(\"Solución aproximada del método de Jacobi dentro de 10^-22:\", x_jacobi)"
      ],
      "metadata": {
        "colab": {
          "base_uri": "https://localhost:8080/"
        },
        "id": "GVMK9RpV-_9O",
        "outputId": "696e5075-b40b-4c07-8477-9e290abad5e4"
      },
      "execution_count": 9,
      "outputs": [
        {
          "output_type": "stream",
          "name": "stdout",
          "text": [
            "Solución aproximada del método de Jacobi dentro de 10^-22: [ 0.90025541 -0.80004033  0.70012933]\n"
          ]
        }
      ]
    },
    {
      "cell_type": "code",
      "source": [
        "# Nueva matriz de coeficientes\n",
        "A_new = np.array([\n",
        "    [1, 0, -2],\n",
        "    [-0.5, 1, -0.25],\n",
        "    [1, -0.5, 1]\n",
        "])\n",
        "\n",
        "# Resolver el sistema de ecuaciones utilizando el método de Jacobi\n",
        "x_jacobi_new = jacobi(A_new, b, x0)\n",
        "\n",
        "# Imprimir el resultado\n",
        "print(\"Solución aproximada del método de Jacobi para el nuevo sistema dentro de 10^-22:\", x_jacobi_new)"
      ],
      "metadata": {
        "colab": {
          "base_uri": "https://localhost:8080/"
        },
        "id": "b25jgGoi_2fZ",
        "outputId": "52cb18c0-44d6-4ae3-9604-5632636f7301"
      },
      "execution_count": 10,
      "outputs": [
        {
          "output_type": "stream",
          "name": "stdout",
          "text": [
            "Solución aproximada del método de Jacobi para el nuevo sistema dentro de 10^-22: [ 1.34478913e+43 -7.28028158e+42  1.56650340e+43]\n"
          ]
        }
      ]
    },
    {
      "cell_type": "markdown",
      "source": [
        "**8. Un cable coaxial está formado por un conductor interno de 0.1 pulgadas cuadradas y un conductor externo de 0.5 pulgadas cuadradas. El potencial en un punto en la sección transversal del cable se describe mediante la ecuación de Laplace.\n",
        "Suponga que el conductor interno se mantiene en 0 volts y el conductor externo se mantiene en 110 volts. Aproximar el potencial entre los dos conductores requiere resolver el siguiente sistema lineal:**\n",
        "\n",
        "\\begin{bmatrix}\n",
        "4 & -1 & 0 & 0 & -1 & 0 & 0 & 0 & 0 & 0 & 0 & 0 \\\\\n",
        "-1 & 4 & -1 & 0 & 0 & 0 & 0 & 0 & 0 & 0 & 0 & 0 \\\\\n",
        "0 & -1 & 4 & -1 & 0 & 0 & 0 & 0 & 0 & 0 & 0 & 0 \\\\\n",
        "0 & 0 & -1 & 4 & 0 & -1 & 0 & 0 & 0 & 0 & 0 & 0 \\\\\n",
        "-1 & 0 & 0 & 0 & 4 & 0 & -1 & 0 & 0 & 0 & 0 & 0 \\\\\n",
        "0 & 0 & 0 & -1 & 0 & 4 & 0 & -1 & 0 & 0 & 0 & 0 \\\\\n",
        "0 & 0 & 0 & 0 & -1 & 0 & 4 & 0 & -1 & 0 & 0 & 0 \\\\\n",
        "0 & 0 & 0 & 0 & 0 & -1 & 0 & 4 & 0 & 0 & 0 & -1 \\\\\n",
        "0 & 0 & 0 & 0 & 0 & 0 & -1 & 0 & 4 & -1 & 0 & 0 \\\\\n",
        "0 & 0 & 0 & 0 & 0 & 0 & 0 & 0 & -1 & 4 & -1 & 0 \\\\\n",
        "0 & 0 & 0 & 0 & 0 & 0 & 0 & 0 & 0 & -1 & 4 & -1 \\\\\n",
        "0 & 0 & 0 & 0 & 0 & -1 & 0 & 0 & 0 & 0 & -1 & 4\n",
        "\\end{bmatrix}\n",
        "\\begin{bmatrix}\n",
        "w_1 \\\\ w_2 \\\\ w_3 \\\\ w_4 \\\\ w_5 \\\\ w_6 \\\\ w_7 \\\\ w_8 \\\\ w_9 \\\\ w_{10} \\\\ w_{11} \\\\ w_{12}\n",
        "\\end{bmatrix}\n",
        "=\n",
        "\\begin{bmatrix}\n",
        "220 \\\\ 110 \\\\ 110 \\\\ 220 \\\\ 110 \\\\ 110 \\\\ 110 \\\\ 110 \\\\ 220 \\\\ 110 \\\\ 110 \\\\ 220\n",
        "\\end{bmatrix}\n",
        "\n",
        "a. ¿La matriz es estrictamente diagonalmente dominante?\n",
        "\n",
        "b. Resuelva el sistema lineal usando el método de Jacobi con $x^{(0)} = 0$ y $TOL = 10^{-2}$.\n",
        "\n",
        "c. Repita la parte b mediante el método de Gauss-Seidel."
      ],
      "metadata": {
        "id": "ps6EeMwRAbGl"
      }
    },
    {
      "cell_type": "markdown",
      "source": [
        "Para que una matriz sea estrictamente diagonalmente dominante, para cada fila de la matriz, el valor absoluto del elemento diagonal debe ser mayor que la suma de los valores absolutos de los otros elementos en esa fila.\n",
        "\n",
        "Dada la matriz $A$:\n",
        "\n",
        "A = \\begin{bmatrix}\n",
        "4 & -1 & 0 & 0 & -1 & 0 & 0 & 0 & 0 & 0 & 0 & 0 \\\\\n",
        "-1 & 4 & -1 & 0 & 0 & 0 & 0 & 0 & 0 & 0 & 0 & 0 \\\\\n",
        "0 & -1 & 4 & -1 & 0 & 0 & 0 & 0 & 0 & 0 & 0 & 0 \\\\\n",
        "0 & 0 & -1 & 4 & 0 & -1 & 0 & 0 & 0 & 0 & 0 & 0 \\\\\n",
        "-1 & 0 & 0 & 0 & 4 & 0 & -1 & 0 & 0 & 0 & 0 & 0 \\\\\n",
        "0 & 0 & 0 & -1 & 0 & 4 & 0 & -1 & 0 & 0 & 0 & 0 \\\\\n",
        "0 & 0 & 0 & 0 & -1 & 0 & 4 & 0 & -1 & 0 & 0 & 0 \\\\\n",
        "0 & 0 & 0 & 0 & 0 & -1 & 0 & 4 & 0 & 0 & 0 & -1 \\\\\n",
        "0 & 0 & 0 & 0 & 0 & 0 & -1 & 0 & 4 & -1 & 0 & 0 \\\\\n",
        "0 & 0 & 0 & 0 & 0 & 0 & 0 & 0 & -1 & 4 & -1 & 0 \\\\\n",
        "0 & 0 & 0 & 0 & 0 & 0 & 0 & 0 & 0 & -1 & 4 & -1 \\\\\n",
        "0 & 0 & 0 & 0 & 0 & -1 & 0 & 0 & 0 & 0 & -1 & 4\n",
        "\\end{bmatrix}\n",
        "\n",
        "Comprobamos cada fila:\n",
        "\n",
        "1. $( |4| > |-1| + |-1| )$ -> $( 4 > 2 )$ -> $Verdadero$\n",
        "2. $( |4| > |-1| + |-1| )$ -> $( 4 > 2 )$ -> $Verdadero$\n",
        "3. $( |4| > |-1| + |-1| )$ -> $( 4 > 2 )$ -> $Verdadero$\n",
        "4. $( |4| > |-1| + |-1| )$ -> $( 4 > 2 )$ -> $Verdadero$\n",
        "5. $( |4| > |-1| + |-1| )$ -> $( 4 > 2 )$ -> $Verdadero$\n",
        "6. $( |4| > |-1| + |-1| )$ -> $( 4 > 2 )$ -> $Verdadero$\n",
        "7. $( |4| > |-1| + |-1| )$ -> $( 4 > 2 )$ -> $Verdadero$\n",
        "8. $( |4| > |-1| + |-1| )$ -> $( 4 > 2 )$ -> $Verdadero$\n",
        "9. $( |4| > |-1| + |-1| )$ -> $( 4 > 2 )$ -> $Verdadero$\n",
        "10. $( |4| > |-1| + |-1| )$ -> $( 4 > 2 )$ -> $Verdadero$\n",
        "11. $( |4| > |-1| + |-1| )$ -> $( 4 > 2 )$ -> $Verdadero$\n",
        "12. $( |4| > |-1| + |-1| )$ -> $( 4 > 2 )$ -> $Verdadero$\n",
        "\n",
        "Como todas las filas cumplen la condición, la matriz es estrictamente diagonalmente dominante.\n"
      ],
      "metadata": {
        "id": "Ng40w5BDBmi0"
      }
    },
    {
      "cell_type": "code",
      "source": [
        "import numpy as np\n",
        "\n",
        "def jacobi(A, b, x0, tol=1e-2, max_iterations=300):\n",
        "    n = len(b)\n",
        "    x = np.copy(x0)\n",
        "    for k in range(max_iterations):\n",
        "        x_new = np.copy(x)\n",
        "        for i in range(n):\n",
        "            s = sum(A[i][j] * x[j] for j in range(n) if j != i)\n",
        "            x_new[i] = (b[i] - s) / A[i][i]\n",
        "        if np.linalg.norm(x_new - x, ord=np.inf) < tol:\n",
        "            return x_new, k\n",
        "        x = x_new\n",
        "    return x, max_iterations\n",
        "\n",
        "# Definición del sistema de ecuaciones\n",
        "A = np.array([\n",
        "    [4, -1, 0, 0, -1, 0, 0, 0, 0, 0, 0, 0],\n",
        "    [-1, 4, -1, 0, 0, 0, 0, 0, 0, 0, 0, 0],\n",
        "    [0, -1, 4, -1, 0, 0, 0, 0, 0, 0, 0, 0],\n",
        "    [0, 0, -1, 4, 0, -1, 0, 0, 0, 0, 0, 0],\n",
        "    [-1, 0, 0, 0, 4, 0, -1, 0, 0, 0, 0, 0],\n",
        "    [0, 0, 0, -1, 0, 4, 0, -1, 0, 0, 0, 0],\n",
        "    [0, 0, 0, 0, -1, 0, 4, 0, -1, 0, 0, 0],\n",
        "    [0, 0, 0, 0, 0, -1, 0, 4, 0, 0, 0, -1],\n",
        "    [0, 0, 0, 0, 0, 0, -1, 0, 4, -1, 0, 0],\n",
        "    [0, 0, 0, 0, 0, 0, 0, 0, -1, 4, -1, 0],\n",
        "    [0, 0, 0, 0, 0, 0, 0, 0, 0, -1, 4, -1],\n",
        "    [0, 0, 0, 0, 0, -1, 0, 0, 0, 0, -1, 4]\n",
        "])\n",
        "b = np.array([220, 110, 110, 220, 110, 110, 110, 110, 220, 110, 110, 220])\n",
        "x0 = np.zeros(len(b))\n",
        "\n",
        "# Resolver el sistema de ecuaciones utilizando el método de Jacobi\n",
        "x_jacobi, iterations_jacobi = jacobi(A, b, x0)\n",
        "\n",
        "# Imprimir el resultado\n",
        "print(f\"Solución aproximada del método de Jacobi en {iterations_jacobi} iteraciones:\")\n",
        "print(x_jacobi)"
      ],
      "metadata": {
        "colab": {
          "base_uri": "https://localhost:8080/"
        },
        "id": "TD8rhVK4H1Ca",
        "outputId": "86699fcc-a04a-42aa-a74e-70042a57aad9"
      },
      "execution_count": 11,
      "outputs": [
        {
          "output_type": "stream",
          "name": "stdout",
          "text": [
            "Solución aproximada del método de Jacobi en 12 iteraciones:\n",
            "[87.9910484  65.99104807 65.99104807 87.9910484  65.99104807 65.99104807\n",
            " 65.99104807 65.99104807 87.9910484  65.99104807 65.99104807 87.9910484 ]\n"
          ]
        }
      ]
    },
    {
      "cell_type": "code",
      "source": [
        "def gauss_seidel(A, b, x0, tol=1e-2, max_iterations=300):\n",
        "    n = len(b)\n",
        "    x = np.copy(x0)\n",
        "    for k in range(max_iterations):\n",
        "        x_new = np.copy(x)\n",
        "        for i in range(n):\n",
        "            s1 = sum(A[i][j] * x_new[j] for j in range(i))\n",
        "            s2 = sum(A[i][j] * x[j] for j in range(i + 1, n))\n",
        "            x_new[i] = (b[i] - s1 - s2) / A[i][i]\n",
        "        if np.linalg.norm(x_new - x, ord=np.inf) < tol:\n",
        "            return x_new, k\n",
        "        x = x_new\n",
        "    return x, max_iterations\n",
        "\n",
        "# Resolver el sistema de ecuaciones utilizando el método de Gauss-Seidel\n",
        "x_gauss_seidel, iterations_gauss_seidel = gauss_seidel(A, b, x0)\n",
        "\n",
        "# Imprimir el resultado\n",
        "print(f\"Solución aproximada del método de Gauss-Seidel en {iterations_gauss_seidel} iteraciones:\")\n",
        "print(x_gauss_seidel)"
      ],
      "metadata": {
        "colab": {
          "base_uri": "https://localhost:8080/"
        },
        "id": "OT9gn6LxBU90",
        "outputId": "25623742-3abf-48fb-c66b-47a4998fd657"
      },
      "execution_count": 12,
      "outputs": [
        {
          "output_type": "stream",
          "name": "stdout",
          "text": [
            "Solución aproximada del método de Gauss-Seidel en 9 iteraciones:\n",
            "[87.99858534 65.99922212 65.99954152 87.9997184  65.99922212 65.99982312\n",
            " 65.99954152 65.99988742 87.9997184  65.99982312 65.99988742 87.99992764]\n"
          ]
        }
      ]
    }
  ]
}